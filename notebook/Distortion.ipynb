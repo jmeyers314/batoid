{
 "cells": [
  {
   "cell_type": "code",
   "execution_count": null,
   "metadata": {
    "ExecuteTime": {
     "end_time": "2019-08-31T17:29:38.753862Z",
     "start_time": "2019-08-31T17:29:38.522098Z"
    }
   },
   "outputs": [],
   "source": [
    "import batoid\n",
    "import numpy as np\n",
    "from ipywidgets import interact\n",
    "import ipywidgets as widgets\n",
    "import matplotlib.pyplot as plt\n",
    "%matplotlib inline"
   ]
  },
  {
   "cell_type": "code",
   "execution_count": null,
   "metadata": {
    "ExecuteTime": {
     "end_time": "2019-08-31T17:29:51.744922Z",
     "start_time": "2019-08-31T17:29:51.722119Z"
    }
   },
   "outputs": [],
   "source": [
    "HSC_telescope = batoid.Optic.fromYaml(\"HSC.yaml\")\n",
    "LSST_telescope = batoid.Optic.fromYaml(\"LSST_r.yaml\")\n",
    "DECam_telescope = batoid.Optic.fromYaml(\"DECam.yaml\")"
   ]
  },
  {
   "cell_type": "code",
   "execution_count": null,
   "metadata": {
    "ExecuteTime": {
     "end_time": "2019-08-31T17:29:53.868551Z",
     "start_time": "2019-08-31T17:29:53.569507Z"
    }
   },
   "outputs": [],
   "source": [
    "# HSC\n",
    "max_th = 0.74\n",
    "pixSize = 15e-6\n",
    "telescope = HSC_telescope\n",
    "\n",
    "dthx_drx = []\n",
    "dthy_dry = []\n",
    "thetas = np.linspace(0., max_th, 20)\n",
    "for th in thetas:\n",
    "    dth_dr = batoid.psf.dthdr(telescope, np.deg2rad(th), 0, 620e-9)\n",
    "    dthx_drx.append(abs(dth_dr[0,0]))\n",
    "    dthy_dry.append(abs(dth_dr[1,1]))\n",
    "\n",
    "dthx_drx = np.array(dthx_drx) * 206265 * pixSize # arcsec per pixel\n",
    "dthy_dry = np.array(dthy_dry) * 206265 * pixSize # arcsec per pixel\n",
    "\n",
    "fig, (ax1, ax2) = plt.subplots(ncols=2, figsize=(10, 4))\n",
    "ax1.plot(thetas, dthx_drx, c='b', label='radial')\n",
    "ax1.plot(thetas, dthy_dry, c='r', label='tangential')\n",
    "ax1.set_xlabel('radius (deg)')\n",
    "ax1.set_ylabel('pixel size (arcsec)')\n",
    "ax1.legend(loc='lower left')\n",
    "ax1.set_title(\"HSC\")\n",
    "\n",
    "ax2.plot(thetas, np.array(dthx_drx)/np.array(dthy_dry))\n",
    "ax2.set_xlabel('radius (deg)')\n",
    "ax2.set_ylabel('b/a')\n",
    "ax2.set_title(\"HSC\")\n",
    "\n",
    "fig.tight_layout()\n",
    "fig.show()"
   ]
  },
  {
   "cell_type": "code",
   "execution_count": null,
   "metadata": {
    "ExecuteTime": {
     "end_time": "2019-08-31T17:29:54.379861Z",
     "start_time": "2019-08-31T17:29:54.121579Z"
    }
   },
   "outputs": [],
   "source": [
    "# DECam\n",
    "max_th = 1.1\n",
    "pixSize = 15e-6\n",
    "telescope = DECam_telescope\n",
    "\n",
    "dthx_drx = []\n",
    "dthy_dry = []\n",
    "thetas = np.linspace(0., max_th, 20)\n",
    "for th in thetas:\n",
    "    dth_dr = batoid.psf.dthdr(telescope, np.deg2rad(th), 0, 620e-9)\n",
    "    dthx_drx.append(abs(dth_dr[0,0]))\n",
    "    dthy_dry.append(abs(dth_dr[1,1]))\n",
    "\n",
    "dthx_drx = np.array(dthx_drx) * 206265 * pixSize # arcsec per pixel\n",
    "dthy_dry = np.array(dthy_dry) * 206265 * pixSize # arcsec per pixel\n",
    "\n",
    "fig, (ax1, ax2) = plt.subplots(ncols=2, figsize=(10, 4))\n",
    "ax1.plot(thetas, dthx_drx, c='b', label='radial')\n",
    "ax1.plot(thetas, dthy_dry, c='r', label='tangential')\n",
    "ax1.set_xlabel('radius (deg)')\n",
    "ax1.set_ylabel('pixel size (arcsec)')\n",
    "ax1.legend(loc='lower left')\n",
    "ax1.set_title(\"DECam\")\n",
    "\n",
    "ax2.plot(thetas, np.array(dthx_drx)/np.array(dthy_dry))\n",
    "ax2.set_xlabel('radius (deg)')\n",
    "ax2.set_ylabel('b/a')\n",
    "ax2.set_title(\"DECam\")\n",
    "\n",
    "fig.tight_layout()\n",
    "fig.show()"
   ]
  },
  {
   "cell_type": "code",
   "execution_count": null,
   "metadata": {
    "ExecuteTime": {
     "end_time": "2019-08-31T17:29:54.981504Z",
     "start_time": "2019-08-31T17:29:54.731844Z"
    }
   },
   "outputs": [],
   "source": [
    "# LSST\n",
    "max_th = 1.75\n",
    "pixSize = 10e-6\n",
    "telescope = LSST_telescope\n",
    "\n",
    "dthx_drx = []\n",
    "dthy_dry = []\n",
    "thetas = np.linspace(0., max_th, 20)\n",
    "for th in thetas:\n",
    "    dth_dr = batoid.psf.dthdr(telescope, np.deg2rad(th), 0, 620e-9)\n",
    "    dthx_drx.append(abs(dth_dr[0,0]))\n",
    "    dthy_dry.append(abs(dth_dr[1,1]))\n",
    "\n",
    "dthx_drx = np.array(dthx_drx) * 206265 * pixSize # arcsec per pixel\n",
    "dthy_dry = np.array(dthy_dry) * 206265 * pixSize # arcsec per pixel\n",
    "\n",
    "fig, (ax1, ax2) = plt.subplots(ncols=2, figsize=(10, 4))\n",
    "ax1.plot(thetas, dthx_drx, c='b', label='radial')\n",
    "ax1.plot(thetas, dthy_dry, c='r', label='tangential')\n",
    "ax1.set_xlabel('radius (deg)')\n",
    "ax1.set_ylabel('pixel size (arcsec)')\n",
    "ax1.legend(loc='lower left')\n",
    "ax1.set_title(\"LSST\")\n",
    "\n",
    "ax2.plot(thetas, np.array(dthx_drx)/np.array(dthy_dry))\n",
    "ax2.set_xlabel('radius (deg)')\n",
    "ax2.set_ylabel('b/a')\n",
    "ax2.set_title(\"LSST\")\n",
    "\n",
    "fig.tight_layout()\n",
    "fig.show()"
   ]
  },
  {
   "cell_type": "code",
   "execution_count": null,
   "metadata": {
    "ExecuteTime": {
     "end_time": "2019-08-31T17:29:55.840714Z",
     "start_time": "2019-08-31T17:29:55.441007Z"
    }
   },
   "outputs": [],
   "source": [
    "# All on the same plot!\n",
    "# LSST\n",
    "fig, (ax1, ax2) = plt.subplots(ncols=2, figsize=(12, 6))\n",
    "\n",
    "ax1.set_xlabel('radius (deg)', fontsize=18)\n",
    "ax1.set_ylabel('relative pixel size on sky', fontsize=18)\n",
    "\n",
    "ax2.set_xlabel('radius (deg)', fontsize=18)\n",
    "ax2.set_ylabel('radial/tangential', fontsize=18)\n",
    "\n",
    "\n",
    "for max_th, pixSize, telescope, color, name in zip(\n",
    "    [0.75, 1.1, 1.75], \n",
    "    [15e-6, 15e-6, 10e-6], \n",
    "    [HSC_telescope, DECam_telescope, LSST_telescope],\n",
    "    ['red', 'blue', 'green'],\n",
    "    ['HSC', 'DECam', 'LSST'],\n",
    "):\n",
    "\n",
    "    dthx_drx = []\n",
    "    dthy_dry = []\n",
    "    thetas = np.linspace(0., max_th, 20)\n",
    "    for th in thetas:\n",
    "        dth_dr = batoid.psf.dthdr(telescope, np.deg2rad(th), 0, 620e-9)\n",
    "        dthx_drx.append(abs(dth_dr[0,0]))\n",
    "        dthy_dry.append(abs(dth_dr[1,1]))\n",
    "\n",
    "    dthx_drx = np.array(dthx_drx) * 206265 * pixSize # arcsec per pixel\n",
    "    dthy_dry = np.array(dthy_dry) * 206265 * pixSize # arcsec per pixel\n",
    "\n",
    "    ax1.plot(thetas, dthx_drx/dthx_drx[0], c=color, ls=':', label=\"{} radial\".format(name))\n",
    "    ax1.plot(thetas, dthy_dry/dthy_dry[0], c=color, label=\"{} tangential\".format(name))\n",
    "    ax2.plot(thetas, np.array(dthx_drx)/np.array(dthy_dry), c=color, label=name)\n",
    "\n",
    "for ax in (ax1, ax2):\n",
    "    ax.tick_params(axis='both', which='major', labelsize=18)\n",
    "    ax.tick_params(axis='both', which='minor', labelsize=18)\n",
    "\n",
    "ax1.legend(fontsize=14)\n",
    "ax2.legend(fontsize=14)\n",
    "\n",
    "fig.tight_layout()\n",
    "fig.show()"
   ]
  },
  {
   "cell_type": "code",
   "execution_count": null,
   "metadata": {},
   "outputs": [],
   "source": []
  }
 ],
 "metadata": {
  "anaconda-cloud": {},
  "kernelspec": {
   "display_name": "Python 3",
   "language": "python",
   "name": "python3"
  },
  "language_info": {
   "codemirror_mode": {
    "name": "ipython",
    "version": 3
   },
   "file_extension": ".py",
   "mimetype": "text/x-python",
   "name": "python",
   "nbconvert_exporter": "python",
   "pygments_lexer": "ipython3",
   "version": "3.7.2"
  }
 },
 "nbformat": 4,
 "nbformat_minor": 1
}
