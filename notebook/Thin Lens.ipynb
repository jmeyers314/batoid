{
 "cells": [
  {
   "cell_type": "code",
   "execution_count": null,
   "metadata": {
    "ExecuteTime": {
     "end_time": "2019-09-16T05:08:18.589482Z",
     "start_time": "2019-09-16T05:08:18.328879Z"
    }
   },
   "outputs": [],
   "source": [
    "import batoid\n",
    "import os\n",
    "import yaml\n",
    "import numpy as np\n",
    "import matplotlib.pyplot as plt\n",
    "from ipywidgets import interact\n",
    "import ipywidgets as widgets\n",
    "%matplotlib inline"
   ]
  },
  {
   "cell_type": "code",
   "execution_count": null,
   "metadata": {
    "ExecuteTime": {
     "end_time": "2019-09-16T05:08:18.616504Z",
     "start_time": "2019-09-16T05:08:18.591020Z"
    }
   },
   "outputs": [],
   "source": [
    "D = 0.1\n",
    "m0 = batoid.ConstMedium(1.000277)  # air\n",
    "w, n = np.genfromtxt(os.path.join(batoid.datadir, \"media\", \"silica_dispersion.txt\")).T\n",
    "w *= 1e-6\n",
    "m1 = batoid.TableMedium(batoid.Table(w, n, 'linear'))\n",
    "wavelength = 500e-9\n",
    "n0 = m0.getN(wavelength)\n",
    "n1 = m1.getN(wavelength)\n",
    "R1 = 0.5  # convex entrance surface\n",
    "R2 = -0.5  # convex exit surface\n",
    "d = 0.01\n",
    "# Lens maker equation:\n",
    "f = 1./((n1-n0)*(1./R1 - 1./R2 + (n1-n0)*d/R1/R2))"
   ]
  },
  {
   "cell_type": "code",
   "execution_count": null,
   "metadata": {
    "ExecuteTime": {
     "end_time": "2019-09-16T05:11:37.703648Z",
     "start_time": "2019-09-16T05:11:37.700031Z"
    }
   },
   "outputs": [],
   "source": [
    "def makeSystem(focus):\n",
    "    systemStr = \"\"\"\n",
    "    opticalSystem:\n",
    "      type: CompoundOptic\n",
    "      inMedium: 1.000277\n",
    "      items:\n",
    "        -\n",
    "          type: RefractiveInterface\n",
    "          surface:\n",
    "            type: Sphere\n",
    "            R: {R1}\n",
    "          obscuration:\n",
    "            type: ClearCircle\n",
    "            radius: {Do2}\n",
    "          inMedium: 1.000277\n",
    "          outMedium: &silica\n",
    "            type: SellmeierMedium\n",
    "            B1: 0.6961663\n",
    "            B2: 0.4079426\n",
    "            B3: 0.8974794\n",
    "            C1: 0.00467914825849\n",
    "            C2: 0.013512063073959999\n",
    "            C3: 97.93400253792099\n",
    "          name: L1\n",
    "        -\n",
    "          type: RefractiveInterface\n",
    "          surface:\n",
    "            type: Sphere\n",
    "            R: {R2}\n",
    "          obscuration:\n",
    "            type: ClearCircle\n",
    "            radius: {Do2}\n",
    "          coordSys:\n",
    "            z: {d}\n",
    "          inMedium: *silica\n",
    "          outMedium: 1.000277\n",
    "          name: L2\n",
    "        -\n",
    "          type: Detector\n",
    "          surface:\n",
    "            type: Plane\n",
    "          obscuration:\n",
    "            type: ClearCircle\n",
    "            radius: {Do2}\n",
    "          coordSys:\n",
    "            z: {f}\n",
    "          inMedium: 1.000277          \n",
    "          name: D\n",
    "    \"\"\".format(**dict(R1=R1, R2=R2, Do2=D/2, d=d, f=f+focus))\n",
    "    config = yaml.safe_load(systemStr)\n",
    "    system = batoid.parse.parse_optic(config['opticalSystem'])\n",
    "    return system"
   ]
  },
  {
   "cell_type": "code",
   "execution_count": null,
   "metadata": {
    "ExecuteTime": {
     "end_time": "2019-09-16T05:14:02.405398Z",
     "start_time": "2019-09-16T05:14:02.250439Z"
    }
   },
   "outputs": [],
   "source": [
    "@interact(theta_x=widgets.FloatSlider(min=-5,max=5,step=1,value=1.1, continuous_update=False),\n",
    "          theta_y=widgets.FloatSlider(min=-5,max=5,step=1,value=2.2, continuous_update=False),\n",
    "          wavelength=widgets.FloatSlider(min=0.4,max=0.7,step=0.05,value=0.5, continuous_update=False),\n",
    "          focus=widgets.FloatSlider(min=-20, max=20, step=1,value=0.0, continuous_update=False))\n",
    "def spot(theta_x, theta_y, wavelength, focus):\n",
    "    \"\"\"Display a spot diagram for a Newtonian telescope.\n",
    "\n",
    "    @param theta_x  Field angle in degrees\n",
    "    @param theta_y  Field angle in degrees\n",
    "    @param wavelength in microns\n",
    "    @param focus    Defocus distance in mm\n",
    "    \"\"\"\n",
    "    system = makeSystem(focus*1e-3)\n",
    "    dirCos = batoid.utils.fieldToDirCos(np.deg2rad(theta_x), np.deg2rad(theta_y))\n",
    "    # Flip the z-cosine since we constructed our telescope to point down\n",
    "    # instead of up, and hence need the initial rays to point up instead\n",
    "    # of down.\n",
    "    dirCos = dirCos[0:2]+(-dirCos[2],)\n",
    "    rays = batoid.RayVector.asPolar(\n",
    "        backDist=1.0, nrad=16, naz=64, wavelength=wavelength*1e-6,\n",
    "        dirCos=dirCos,\n",
    "        outer=D/2*0.999, medium=batoid.ConstMedium(1.000277)\n",
    "    )\n",
    "    \n",
    "    system.traceInPlace(rays)\n",
    "    rays.trimVignettedInPlace()\n",
    "    plt.scatter(1e3*(rays.x-np.mean(rays.x)), 1e3*(rays.y-np.mean(rays.y)), s=1)\n",
    "    plt.xlim(-1, 1)\n",
    "    plt.ylim(-1, 1)\n",
    "    plt.xlabel(\"mm\")\n",
    "    plt.ylabel(\"mm\")\n",
    "    plt.title(r\"$\\theta_x = {:4.2f}\\,,\\theta_y = {:4.2f}\\,,\\lambda = {:4g}\\,, f={:4.2f}$\".format(theta_x, theta_y, wavelength, focus))\n",
    "    plt.axes().set_aspect('equal')    "
   ]
  },
  {
   "cell_type": "code",
   "execution_count": null,
   "metadata": {},
   "outputs": [],
   "source": []
  }
 ],
 "metadata": {
  "anaconda-cloud": {},
  "kernelspec": {
   "display_name": "Python 3",
   "language": "python",
   "name": "python3"
  },
  "language_info": {
   "codemirror_mode": {
    "name": "ipython",
    "version": 3
   },
   "file_extension": ".py",
   "mimetype": "text/x-python",
   "name": "python",
   "nbconvert_exporter": "python",
   "pygments_lexer": "ipython3",
   "version": "3.7.2"
  },
  "widgets": {
   "state": {
    "801e0613f9f44fc5b66b8534af8dd6e4": {
     "views": [
      {
       "cell_index": 3
      }
     ]
    }
   },
   "version": "1.2.0"
  }
 },
 "nbformat": 4,
 "nbformat_minor": 1
}
