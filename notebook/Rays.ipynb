{
 "cells": [
  {
   "cell_type": "code",
   "execution_count": null,
   "metadata": {},
   "outputs": [],
   "source": [
    "import batoid\n",
    "import numpy as np\n",
    "import matplotlib.pyplot as plt\n",
    "%matplotlib inline"
   ]
  },
  {
   "cell_type": "markdown",
   "metadata": {},
   "source": [
    "### Rays\n",
    "The most fundamental object in batoid is the `Ray`, which you can roughly think of as a photon.  Rays are defined primarily by their position `r` and velocity vector `v`.  Positions in batoid are always specified in meters, and velocities are always in units of the speed of light in vacuum.  This makes the magnitude of the velocity vector equal to $1/n$, where $n$ is the refractive index of the medium in question.  If you're just planning on geometrically tracing rays through reflective optics, then positions and velocities are the only required Ray parameters (and are the only required elements in the `Ray` constructors).\n",
    "\n",
    "The next most important `Ray` attribute after position and velocity is `wavelength`, which is (almost always) required for tracing through refractive optics.  (The exception is if you define a refractive medium that doesn't depend on wavelength.  Real media do have wavelength-dependent indices of course.)  Ray wavelengths are always specified in meters, and always in vacuum -- even when the Ray being created isn't currently in vacuum.  If you don't specify a value for `wavelength` explicitly when constructing a `Ray`, a (somewhat nonsensical) value of 0.0 meters will be used.\n",
    "\n",
    "Next in the list of `Ray` attributes is time `t`.  Batoid doesn't track time directly, but rather tracks the product of time and the speed of light in vacuum.  That product has dimensions of length, so time in batoid is measured in meters.  Note that this convention is complementary to the convention of tracking velocity in units of the speed of light in vacuum -- we still have the familiar relation $\\Delta \\vec{r} = \\vec{v} \\Delta t$.  The default value of time `t` for a `Ray` is 0.0 meters.\n",
    "\n",
    "The final fundamental attributes of a `Ray` are a `flux` in arbitrary units and status indicators for whether a `Ray` has become `vignetted` during tracing, or if batoid `failed` to successfully trace a `Ray` for some reason.  These and a number of additional derived attributes will be discussed more below."
   ]
  },
  {
   "cell_type": "code",
   "execution_count": null,
   "metadata": {},
   "outputs": [],
   "source": [
    "#Create a Ray from position and velocity scalars\n",
    "x, y, z = 0.1, 0.2, 0.3  # meters\n",
    "vx, vy, vz = 0.1, 0.2, np.sqrt(1 - 0.1**2 - 0.2**2)  # in units of c\n",
    "\n",
    "ray = batoid.Ray(x, y, z, vx, vy, vz)\n",
    "\n",
    "# alternatively, you can pass a 3-element sequence for the position and velocity\n",
    "r = (x, y, z)\n",
    "v = (vx, vy, vz)\n",
    "ray2 = batoid.Ray(r, v)\n",
    "\n",
    "assert ray == ray2"
   ]
  },
  {
   "cell_type": "code",
   "execution_count": null,
   "metadata": {},
   "outputs": [],
   "source": [
    "# Printing the ray reveals its attributes.\n",
    "print(ray)"
   ]
  },
  {
   "cell_type": "code",
   "execution_count": null,
   "metadata": {},
   "outputs": [],
   "source": [
    "# Regardless of how you create a Ray, you can access its position and velocity attributes\n",
    "# either as scalars or as vectors.\n",
    "print(ray.x)\n",
    "print(ray.vz)\n",
    "\n",
    "print(ray.r)\n",
    "print(ray.v)\n",
    "\n",
    "assert ray.r[0] == ray.x\n",
    "assert ray.r[1] == ray.y\n",
    "assert ray.r[2] == ray.z\n",
    "assert ray.v[0] == ray.vx\n",
    "assert ray.v[1] == ray.vy\n",
    "assert ray.v[2] == ray.vz"
   ]
  },
  {
   "cell_type": "code",
   "execution_count": null,
   "metadata": {},
   "outputs": [],
   "source": [
    "# Rays have a number of optional fields too\n",
    "print(ray.t)  # The time in meters (see explanation above)\n",
    "print(ray.wavelength)  # Vacuum wavelength in meters.\n",
    "print(ray.flux)  # Flux in arbitrary units.\n",
    "print(ray.vignetted)  # Whether or not the ray has been vignetted\n",
    "print(ray.failed)  # Whether or not the ray is failed.  \n",
    "                   # Usually this means an intersection between the Ray and a Surface could not be found."
   ]
  },
  {
   "cell_type": "code",
   "execution_count": null,
   "metadata": {},
   "outputs": [],
   "source": [
    "# You can create rays with specific values for these optional fields too \n",
    "# (except for failed, which always starts out as False)\n",
    "ray = batoid.Ray(r, v, t=0.3, wavelength=400e-9, flux=2.3, vignetted=True)\n",
    "print(ray)"
   ]
  },
  {
   "cell_type": "markdown",
   "metadata": {},
   "source": [
    "### Derived Ray attributes\n",
    "Two additional attributes derivable from the fundamental attributes detailed above are the wavevector $\\vec{k}$ and the temporal frequency $\\omega$.  The wavevector is defined by\n",
    "\n",
    "$$\\vec{k} = \\frac{2 \\pi \\vec{v}}{\\lambda |\\vec{v}|^2}$$\n",
    "\n",
    "(with $\\lambda$ being the vacuum wavelength) and has units of radians per meter.\n",
    "\n",
    "The normal physics definition of angular temporal frequency is $\\omega = \\frac{2 \\pi c}{\\lambda}$, but in batoid, we divide out the speed of light in vacuum to get\n",
    "\n",
    "$$\\omega = \\frac{2 \\pi}{\\lambda}$$.\n",
    "\n",
    "The units are again radians per meter (but this time in a scalar variable).  This choice for the frequency means that $\\omega t$ is a phase angle in batoid (just as $\\vec{k} \\cdot \\vec{r}$ is)."
   ]
  },
  {
   "cell_type": "code",
   "execution_count": null,
   "metadata": {},
   "outputs": [],
   "source": [
    "print(ray.omega)  # angular frequency\n",
    "print(ray.k)  # wave vector\n",
    "print(ray.kx)  # individual components of the wave vector are also accessible directly\n",
    "assert ray.k[0] == ray.kx\n",
    "assert ray.k[1] == ray.ky\n",
    "assert ray.k[2] == ray.kz"
   ]
  },
  {
   "cell_type": "markdown",
   "metadata": {},
   "source": [
    "### Ray methods\n",
    "The first set of methods available to `Ray` is for propagation of the photon through time.  The `positionAtTime` method accepts a time (still in meters) and returns the position of the `Ray` at that past, present, or future time.  The `propagatedToTime` method is similar, but returns a new `Ray` object at the propagated position instead of the position itself.  Finally, the `propagateInPlace` method mutates the `Ray` in place, which is generally a little faster, but destroys the original `Ray` information, of course.\n",
    "\n",
    "For the second set of `Ray` methods, we change our conception of what a ray is: from a propagating infinitesimal point to a propagating plane wave.  I.e., we imagine that the velocity `v` attribute is that of a plane wave, and that the position `r` and time `t` together indicate a point in space-time where the wave amplitude is a maximum.  Note that these conditions will remain true as we propagate the wave in time.\n",
    "\n",
    "The `phase` method accepts a position and time and returns the phase $\\phi$ of this plane wave in radians.  The `amplitude` method returns the complex amplitude $\\exp(i \\phi)$."
   ]
  },
  {
   "cell_type": "code",
   "execution_count": null,
   "metadata": {},
   "outputs": [],
   "source": [
    "ray = batoid.Ray([0,0,0], [0,0,1])\n",
    "print(ray)\n",
    "print(ray.positionAtTime(1.0))  # propagated from (0,0,0) to (0,0,1)\n",
    "print(ray.propagatedToTime(1.0))  # new ray at (0,0,1) and with t=1\n",
    "print(ray)  # original ray didn't change though\n",
    "ray.propagateInPlace(2.0)  # propagate in-place from (0,0,0), t=0 to (0,0,2), t=2\n",
    "print(ray)"
   ]
  },
  {
   "cell_type": "code",
   "execution_count": null,
   "metadata": {},
   "outputs": [],
   "source": [
    "# Plot one period of the plane wave with wavelength 800e-9 m\n",
    "wavelength = 800e-9\n",
    "ray = batoid.Ray([0,0,0], [0,0,1], t=0, wavelength=wavelength)\n",
    "ts = np.linspace(0, wavelength)\n",
    "plt.plot(ts, [np.cos(ray.phase([0,0,0], t)) for t in ts])\n",
    "plt.axhline(0, c='k')\n",
    "plt.xlabel(\"c t (meters)\")\n",
    "plt.ylabel(\"amplitude\")"
   ]
  },
  {
   "cell_type": "code",
   "execution_count": null,
   "metadata": {},
   "outputs": [],
   "source": [
    "# We can also look at a fixed time over a small region of space\n",
    "# Since the wave is travelling in the +z direction, its amplitude\n",
    "# varies with z, but not with x or y\n",
    "wavelength = 800e-9\n",
    "ray = batoid.Ray([0,0,0], [0,0,1], t=0, wavelength=wavelength)\n",
    "xs = ys = zs = np.linspace(0, wavelength)\n",
    "plt.plot(xs, [np.cos(ray.phase([x,0,0], 0)) for x in xs], label='x')\n",
    "plt.plot(ys, [np.cos(ray.phase([0,y,0], 0))+0.1 for y in ys], label='y+0.1')\n",
    "plt.plot(zs, [np.cos(ray.phase([0,0,z], 0)) for z in zs], label='z')\n",
    "plt.xlabel(\"position (meters)\")\n",
    "plt.ylabel(\"amplitude\")\n",
    "plt.legend()"
   ]
  },
  {
   "cell_type": "markdown",
   "metadata": {},
   "source": [
    "### RayVector\n",
    "There are many times when you may want to work with more than one ray simultaneously.  While this could be done using, say, a regular python list of `Ray`s, it's more efficient to use a batoid `RayVector`.  The advantage is that this allows more of the looping over `Ray`s to occur in the c++ layer as opposed to the python layer.\n",
    "\n",
    "`RayVector`s behave similarly to python lists, and can even be constructed from python lists of `Ray`s."
   ]
  },
  {
   "cell_type": "code",
   "execution_count": null,
   "metadata": {},
   "outputs": [],
   "source": [
    "ray1 = batoid.Ray(0,0,0,0,0,1,0,500e-9,1.1)\n",
    "ray2 = batoid.Ray(1,0,0,0,0,1,0,600e-9,1.2)\n",
    "ray3 = batoid.Ray(0,1,0,0,0,1,0,700e-9,1.3)\n",
    "ray4 = batoid.Ray(0,0,1,0,0,1,0,800e-9,1.4)\n",
    "\n",
    "\n",
    "rayVector = batoid.RayVector([ray1, ray2, ray3, ray4])\n",
    "\n",
    "assert rayVector[0] == ray1\n",
    "assert rayVector[1] == ray2\n",
    "assert rayVector[2] == ray3\n",
    "assert rayVector[3] == ray4"
   ]
  },
  {
   "cell_type": "markdown",
   "metadata": {},
   "source": [
    "`RayVector`s have the same attributes as `Ray`s, but return numpy arrays with the first dimension corresponding to their different constituent `Ray`s."
   ]
  },
  {
   "cell_type": "code",
   "execution_count": null,
   "metadata": {},
   "outputs": [],
   "source": [
    "print(rayVector.vx)  # x component of each Ray's velocity\n",
    "print(rayVector.r)  # 2D array containing each Ray's position.\n",
    "print(rayVector.r.shape)  # First index ranges over the different Rays.\n",
    "print(rayVector.omega)  # Derived attributes work too."
   ]
  },
  {
   "cell_type": "markdown",
   "metadata": {},
   "source": [
    "`RayVector`s have the same methods as `Ray`s.  Note that they still only accept single position and time arguments though, which are then used for all of the constituent `Ray`s."
   ]
  },
  {
   "cell_type": "code",
   "execution_count": null,
   "metadata": {},
   "outputs": [],
   "source": [
    "rayVector = batoid.RayVector([ray1, ray2, ray3, ray4])\n",
    "print(rayVector.positionAtTime(1))\n",
    "rayVector2 = rayVector.propagatedToTime(1)\n",
    "assert rayVector != rayVector2\n",
    "rayVector.propagateInPlace(1)\n",
    "assert rayVector == rayVector2"
   ]
  },
  {
   "cell_type": "code",
   "execution_count": null,
   "metadata": {},
   "outputs": [],
   "source": [
    "print(rayVector.phase([0,0,0], 0))\n",
    "print(rayVector.amplitude([0,0,0], 1))"
   ]
  },
  {
   "cell_type": "markdown",
   "metadata": {},
   "source": [
    "`RayVector`s also have a few additional methods not present for `Ray`.  \n",
    "\n",
    "The `sumAmplitude` method is similar to the `amplitude` method, but adds the complex amplitudes of each `Ray`'s plane wave together.  This could be done in python, of course, but is significantly faster in some cases to do on the c++ side.\n",
    "\n",
    "The `trimVignetted` and `trimVignettedInPlace` methods work to remove `Ray`s that have `.vignetted==True`.  We'll examine these methods in a future tutorial."
   ]
  },
  {
   "cell_type": "code",
   "execution_count": null,
   "metadata": {},
   "outputs": [],
   "source": [
    "assert sum(rayVector.amplitude([0,0,0],0)) == rayVector.sumAmplitude([0,0,0], 0)"
   ]
  },
  {
   "cell_type": "markdown",
   "metadata": {},
   "source": [
    "### rayGrid and circularGrid\n",
    "It can be slow to construct large grids of `Ray`s in python just to then assemble them into `RayVector`s.  To help speed up this construction, batoid includes two convenience functions that can be used to rapidly create commonly desired grids of rays.  These are `batoid.rayGrid` and `batoid.circularGrid`.  In both cases, the goal is to uniformly sample a plane wave incident upon some optical system by creating a grid of parallel and cophased `Ray`s.  For `rayGrid`, these assembled `Ray`s occupy a square region of space, and for `circularGrid`, they occupy a circular or annular region.  `RayVector`s assembled this way are the foundation for many of the analyses computable by batoid."
   ]
  },
  {
   "cell_type": "code",
   "execution_count": null,
   "metadata": {},
   "outputs": [],
   "source": [
    "zdist = 10  # mean distance above the origin of the rayVector\n",
    "length = 10  # size of the square region\n",
    "xcos, ycos, zcos = 0, 0, -1  # direction cosine for the rays velocities.\n",
    "nside = 16  # number of rays on a side of the square grid\n",
    "wavelength = 500e-9\n",
    "flux = 1.2\n",
    "medium = batoid.ConstMedium(1.0)  # medium in which rays originate.  \n",
    "                                  # We'll examine Mediums more in a future tutorial.\n",
    "\n",
    "rays = batoid.rayGrid(\n",
    "    zdist, length, xcos, ycos, zcos, nside, wavelength, flux, medium\n",
    ")\n",
    "\n",
    "# Similar but not quite identical arguments for circularGrid.\n",
    "outer = 5.0  # outer radius of annulus in meters\n",
    "inner = 2.5  # inner radius of annulus in meters\n",
    "nradii = 8  # number of radii (rings)\n",
    "naz = 60  # number of point around outermost ring\n",
    "circularRays = batoid.circularGrid(\n",
    "    zdist, outer, inner, xcos, ycos, zcos, nradii, naz, wavelength, flux, medium\n",
    ")\n",
    "\n",
    "# In the plot, you can see that the rays span the range from -5 to +5 meters\n",
    "plt.scatter(rays.x, rays.y, c='b', s=25)\n",
    "plt.scatter(circularRays.x, circularRays.y, c='r', s=10)\n",
    "plt.xlabel(\"x\")\n",
    "plt.ylabel(\"y\")\n",
    "plt.show()\n",
    "\n",
    "plt.scatter(rays.x, rays.z, c='b', s=25)\n",
    "plt.scatter(circularRays.x, circularRays.z, c='r', s=10)\n",
    "plt.xlabel(\"x\")\n",
    "plt.ylabel(\"z\")\n",
    "plt.show()"
   ]
  },
  {
   "cell_type": "code",
   "execution_count": null,
   "metadata": {},
   "outputs": [],
   "source": [
    "# If we want to tilt the incoming plane wave, then we manipulate the direction cosines.  \n",
    "# The batoid.gnomicToDirCos function can help with this\n",
    "theta_x = 0.2 # radians\n",
    "theta_y = 0.2\n",
    "xcos, ycos, zcos = batoid.utils.gnomicToDirCos(theta_x, theta_y)\n",
    "zcos *= -1  # have rays point down, not up\n",
    "\n",
    "rays = batoid.rayGrid(\n",
    "    zdist, length, xcos, ycos, zcos, nside, wavelength, flux, medium\n",
    ")\n",
    "circularRays = batoid.circularGrid(\n",
    "    zdist, outer, inner, xcos, ycos, zcos, nradii, naz, wavelength, flux, medium\n",
    ")\n",
    "\n",
    "plt.scatter(rays.x, rays.y, c='b', s=25)\n",
    "plt.scatter(circularRays.x, circularRays.y, c='r', s=10)\n",
    "plt.xlabel(\"x\")\n",
    "plt.ylabel(\"y\")\n",
    "plt.show()\n",
    "\n",
    "plt.scatter(rays.x, rays.z, c='b', s=25)\n",
    "plt.scatter(circularRays.x, circularRays.z, c='r', s=10)\n",
    "plt.xlabel(\"x\")\n",
    "plt.ylabel(\"z\")\n",
    "plt.show()"
   ]
  },
  {
   "cell_type": "code",
   "execution_count": null,
   "metadata": {},
   "outputs": [],
   "source": [
    "# If you have ipyvolume installed, you can visualize the ray grids in 3D.\n",
    "has_ipv = True\n",
    "try:\n",
    "    import ipyvolume as ipv\n",
    "except ImportError:\n",
    "    has_ipv = False"
   ]
  },
  {
   "cell_type": "code",
   "execution_count": null,
   "metadata": {},
   "outputs": [],
   "source": [
    "if has_ipv:\n",
    "    ipv.quickquiver(rays.x, rays.y, rays.z, rays.vx, rays.vy, rays.vz, size=5)\n",
    "    ipv.xyzlim(10)\n",
    "    ipv.view(0,90)\n",
    "    ipv.show()"
   ]
  },
  {
   "cell_type": "code",
   "execution_count": null,
   "metadata": {},
   "outputs": [],
   "source": [
    "if has_ipv:\n",
    "    ipv.quickquiver(circularRays.x, circularRays.y, circularRays.z, \n",
    "                    circularRays.vx, circularRays.vy, circularRays.vz, \n",
    "                    size=5)\n",
    "    ipv.xyzlim(10)\n",
    "    ipv.view(0,90)\n",
    "    ipv.show()"
   ]
  },
  {
   "cell_type": "code",
   "execution_count": null,
   "metadata": {},
   "outputs": [],
   "source": []
  }
 ],
 "metadata": {
  "kernelspec": {
   "display_name": "Python 3",
   "language": "python",
   "name": "python3"
  },
  "language_info": {
   "codemirror_mode": {
    "name": "ipython",
    "version": 3
   },
   "file_extension": ".py",
   "mimetype": "text/x-python",
   "name": "python",
   "nbconvert_exporter": "python",
   "pygments_lexer": "ipython3",
   "version": "3.6.6"
  }
 },
 "nbformat": 4,
 "nbformat_minor": 2
}
