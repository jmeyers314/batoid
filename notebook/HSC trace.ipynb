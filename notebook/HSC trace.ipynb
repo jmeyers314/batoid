{
 "cells": [
  {
   "cell_type": "code",
   "execution_count": null,
   "metadata": {
    "ExecuteTime": {
     "end_time": "2019-08-31T17:34:53.305023Z",
     "start_time": "2019-08-31T17:34:53.067209Z"
    }
   },
   "outputs": [],
   "source": [
    "import batoid\n",
    "from batoid.utils import normalized\n",
    "import numpy as np\n",
    "from ipywidgets import interact\n",
    "import ipywidgets as widgets\n",
    "import matplotlib.pyplot as plt\n",
    "from mpl_toolkits.mplot3d import Axes3D\n",
    "%matplotlib inline"
   ]
  },
  {
   "cell_type": "code",
   "execution_count": null,
   "metadata": {
    "ExecuteTime": {
     "end_time": "2019-08-31T17:34:59.167430Z",
     "start_time": "2019-08-31T17:34:59.082626Z"
    }
   },
   "outputs": [],
   "source": [
    "fiducial_telescope = batoid.Optic.fromYaml(\"HSC.yaml\")"
   ]
  },
  {
   "cell_type": "code",
   "execution_count": null,
   "metadata": {
    "ExecuteTime": {
     "end_time": "2019-08-31T17:35:00.091601Z",
     "start_time": "2019-08-31T17:34:59.578053Z"
    }
   },
   "outputs": [],
   "source": [
    "fig1 = plt.figure(figsize=(12, 11))\n",
    "ax1 = fig1.add_subplot(111)\n",
    "fiducial_telescope.draw2d(ax1, c='k')\n",
    "\n",
    "fig2 = plt.figure(figsize=(12, 11))\n",
    "ax2 = fig2.add_subplot(111, projection='3d')\n",
    "fiducial_telescope.draw3d(ax2, c='k')\n",
    "\n",
    "p0_left = np.array([-2.5, 0, 0])\n",
    "p0_right = np.array([2.5, 0, 0])\n",
    "p0_lmid = np.array([-1.5, 0, 0])\n",
    "p0_rmid = np.array([1.5, 0, 0])\n",
    "v_left = normalized(np.array([-0.008, 0, -1]))\n",
    "v_mid = normalized(np.array([0, 0, -1]))\n",
    "v_right = normalized(np.array([0.008, 0, -1]))\n",
    "\n",
    "for v, c in zip([v_left, v_mid, v_right], ['#377eb8', '#ff7f00', '#4daf4a']):\n",
    "    rays = []\n",
    "    for p0 in [p0_left, p0_lmid, p0_rmid, p0_right]:\n",
    "        ray = batoid.Ray(p0, v, t=0, wavelength=500e-9)\n",
    "        p0 = ray.positionAtTime(-18)        \n",
    "        rays.append(batoid.Ray(p0, v, t=0, wavelength=500e-9))\n",
    "    traceFull = fiducial_telescope.traceFull(batoid.RayVector(rays))\n",
    "    batoid.drawTrace2d(ax1, traceFull, c=c)\n",
    "    batoid.drawTrace3d(ax2, traceFull, c=c)"
   ]
  },
  {
   "cell_type": "code",
   "execution_count": null,
   "metadata": {
    "ExecuteTime": {
     "end_time": "2019-08-31T17:35:00.620495Z",
     "start_time": "2019-08-31T17:35:00.111335Z"
    }
   },
   "outputs": [],
   "source": [
    "fig1 = plt.figure(figsize=(12, 11))\n",
    "ax1 = fig1.add_subplot(111)\n",
    "fiducial_telescope.itemDict['SubaruHSC.HSC'].draw2d(ax1, c='k')\n",
    "ax1.set_xlim(ax1.get_xlim())\n",
    "ax1.set_ylim(ax1.get_ylim())\n",
    "\n",
    "fig2 = plt.figure(figsize=(12, 11))\n",
    "ax2 = fig2.add_subplot(111, projection='3d')\n",
    "fiducial_telescope.itemDict['SubaruHSC.HSC'].draw3d(ax2, c='k')\n",
    "ax2.set_xlim(ax2.get_xlim())\n",
    "ax2.set_ylim(ax2.get_ylim())\n",
    "ax2.set_zlim(ax2.get_zlim())\n",
    "\n",
    "p0_left = np.array([-2.5, 0, 0])\n",
    "p0_right = np.array([2.5, 0, 0])\n",
    "p0_lmid = np.array([-1.5, 0, 0])\n",
    "p0_rmid = np.array([1.5, 0, 0])\n",
    "v_left = normalized(np.array([-0.008, 0, -1]))\n",
    "v_mid = normalized(np.array([0, 0, -1]))\n",
    "v_right = normalized(np.array([0.008, 0, -1]))\n",
    "\n",
    "for v, c in zip([v_left, v_mid, v_right], ['#377eb8', '#ff7f00', '#4daf4a']):\n",
    "    rays = []\n",
    "    for p0 in [p0_left, p0_lmid, p0_rmid, p0_right]:\n",
    "        ray = batoid.Ray(p0, v, t=0, wavelength=500e-9)\n",
    "        p0 = ray.positionAtTime(-18)        \n",
    "        rays.append(batoid.Ray(p0, v, t=0, wavelength=500e-9))\n",
    "    traceFull = fiducial_telescope.traceFull(batoid.RayVector(rays))\n",
    "    batoid.drawTrace2d(ax1, traceFull, c=c)\n",
    "    batoid.drawTrace3d(ax2, traceFull, c=c)"
   ]
  },
  {
   "cell_type": "code",
   "execution_count": null,
   "metadata": {},
   "outputs": [],
   "source": []
  }
 ],
 "metadata": {
  "anaconda-cloud": {},
  "kernelspec": {
   "display_name": "Python 3",
   "language": "python",
   "name": "python3"
  },
  "language_info": {
   "codemirror_mode": {
    "name": "ipython",
    "version": 3
   },
   "file_extension": ".py",
   "mimetype": "text/x-python",
   "name": "python",
   "nbconvert_exporter": "python",
   "pygments_lexer": "ipython3",
   "version": "3.7.2"
  }
 },
 "nbformat": 4,
 "nbformat_minor": 1
}
