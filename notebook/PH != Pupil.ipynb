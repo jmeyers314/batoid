{
 "cells": [
  {
   "cell_type": "code",
   "execution_count": null,
   "metadata": {},
   "outputs": [],
   "source": [
    "import batoid\n",
    "import os\n",
    "import yaml\n",
    "import numpy as np\n",
    "import matplotlib.pyplot as plt\n",
    "%matplotlib inline"
   ]
  },
  {
   "cell_type": "code",
   "execution_count": null,
   "metadata": {},
   "outputs": [],
   "source": [
    "HSC_fn = os.path.join(batoid.datadir, \"HSC\", \"HSC.yaml\")\n",
    "config = yaml.load(open(HSC_fn))\n",
    "telescope = batoid.parse.parse_optic(config['opticalSystem'])"
   ]
  },
  {
   "cell_type": "code",
   "execution_count": null,
   "metadata": {},
   "outputs": [],
   "source": [
    "def pupil(xcos, ycos, nside=512):\n",
    "    zcos = -np.sqrt(1.0-xcos**2-ycos**2)\n",
    "    rays = batoid.rayGrid(20, 10, xcos, ycos, zcos, nside=nside, wavelength=600e-9, flux=1.0, medium=batoid.ConstMedium(1.0))\n",
    "    tf = telescope.traceFull(rays)\n",
    "    w = np.logical_not(tf[-1]['out'].vignetted)\n",
    "    return tf[0]['in'].x[w]*np.sqrt(1-xcos**2), tf[0]['in'].y[w]*np.sqrt(1-ycos**2)"
   ]
  },
  {
   "cell_type": "code",
   "execution_count": null,
   "metadata": {
    "scrolled": false
   },
   "outputs": [],
   "source": [
    "fig = plt.figure(figsize=(12, 12))\n",
    "ax = fig.add_subplot(111)\n",
    "ax.scatter(*pupil(0.001,0), s=0.1)\n",
    "fig.show()"
   ]
  },
  {
   "cell_type": "code",
   "execution_count": null,
   "metadata": {},
   "outputs": [],
   "source": [
    "def spanRange(x, nside=512):\n",
    "    xmin, xmax = np.min(x), np.max(x)\n",
    "    xspan = xmax - xmin\n",
    "    xmin = xmin - 0.8*xspan\n",
    "    xmax = xmax + 0.8*xspan\n",
    "    return np.linspace(xmin, xmax, nside)"
   ]
  },
  {
   "cell_type": "code",
   "execution_count": null,
   "metadata": {},
   "outputs": [],
   "source": [
    "def pinhole(xcos, ycos, nside=256):\n",
    "    # reset skips\n",
    "    for item in telescope.itemDict.keys():\n",
    "        telescope.itemDict[item].skip = False\n",
    "\n",
    "    # First, need to determine where on the filter to constrain rays.  We'll use the average position of the \n",
    "    # pupil beam that would have intersected the filter.\n",
    "    zcos = -np.sqrt(1.0-xcos**2-ycos**2)\n",
    "    rays = batoid.rayGrid(20, 10, xcos, ycos, zcos, nside=nside, wavelength=600e-9, flux=1.0, medium=batoid.ConstMedium(1.0))\n",
    "    tf = telescope.traceFull(rays)\n",
    "    surface = tf[[s['name'] for s in tf].index('F_entrance')]\n",
    "    rs = surface['out'].trimVignetted()\n",
    "    xmean, ymean = np.mean(rs.x), np.mean(rs.y)\n",
    "    # Now we need to generate a bunch of rays that all pass through the above part of the filter, but over \n",
    "    # a range of angles.\n",
    "    # What is the range of angles for the pupil beam?  \n",
    "    vx = spanRange(rs.vx, nside=nside)\n",
    "    vy = spanRange(rs.vy, nside=nside)\n",
    "    vx, vy = np.meshgrid(vx, vy)\n",
    "    vz = np.sqrt(1-vx*vx+vy*vy)\n",
    "    # Now need to make a RayVector with appropriate x,y,vx,vy,...\n",
    "    rv = batoid.RayVector([\n",
    "        batoid.Ray(xmean, ymean, 0, vx_, vy_, vz_, 0, 600e-9)\n",
    "        for vx_, vy_, vz_ in zip(vx.ravel(), vy.ravel(), vz.ravel())])\n",
    "    # trace forward from filter.  So temporarily skip everything before the filter.\n",
    "    before_items = ['SubaruHSC.POPT2', \n",
    "                    'SubaruHSC.TopRing',\n",
    "                    'SubaruHSC.BottomRing',\n",
    "                    'SubaruHSC.TertiarySpiderFirstPass',\n",
    "                    'SubaruHSC.PM',\n",
    "                    'SubaruHSC.TertiarySpiderSecondPass',\n",
    "                    'SubaruHSC.HSC.G1',\n",
    "                    'SubaruHSC.HSC.G2',\n",
    "                    'SubaruHSC.HSC.ADC',\n",
    "                    'SubaruHSC.HSC.G3',\n",
    "                    'SubaruHSC.HSC.G4',\n",
    "                    'SubaruHSC.HSC.G5',\n",
    "                   ]\n",
    "    for item in before_items:\n",
    "        telescope.itemDict[item].skip = True\n",
    "    forward_rays, _ = telescope.trace(rv, inCoordSys=telescope.itemDict['SubaruHSC.HSC.F'].coordSys)\n",
    "    # reset skips\n",
    "    for item in telescope.itemDict.keys():\n",
    "        telescope.itemDict[item].skip = False\n",
    "    # Now skip everything that happens *after* and including the filter\n",
    "    after_items = ['SubaruHSC.HSC.F',\n",
    "                   'SubaruHSC.HSC.W',\n",
    "                   'SubaruHSC.HSC.D',\n",
    "                  ]\n",
    "    for item in after_items:\n",
    "        telescope.itemDict[item].skip = True\n",
    "    rv = batoid.RayVector([\n",
    "        batoid.Ray(r.r, -r.v, r.t, r.wavelength)\n",
    "        for r in rv]\n",
    "    )\n",
    "    reverse_rays, _ = telescope.traceReverse(rv, inCoordSys=telescope.itemDict['SubaruHSC.HSC.F'].coordSys)\n",
    "\n",
    "    # reset skips\n",
    "    for item in telescope.itemDict.keys():\n",
    "        telescope.itemDict[item].skip = False\n",
    "        \n",
    "    w = np.where(np.logical_not(reverse_rays.vignetted))[0]\n",
    "    return forward_rays.x[w], forward_rays.y[w]"
   ]
  },
  {
   "cell_type": "code",
   "execution_count": null,
   "metadata": {},
   "outputs": [],
   "source": [
    "fig = plt.figure(figsize=(12, 12))\n",
    "ax = fig.add_subplot(111)\n",
    "ax.scatter(*pinhole(0,0), s=1)\n",
    "fig.show()"
   ]
  },
  {
   "cell_type": "code",
   "execution_count": null,
   "metadata": {},
   "outputs": [],
   "source": [
    "def plot(xcos, ycos):\n",
    "    fig = plt.figure(figsize=(6, 6))\n",
    "    ax = fig.add_subplot(111)\n",
    "\n",
    "    pux, puy = pupil(xcos, ycos)\n",
    "    xspan = np.max(pux) - np.min(pux)\n",
    "    yspan = np.max(puy) - np.min(puy)\n",
    "    span = max(xspan, yspan)\n",
    "    pux = (pux - np.mean(pux))/span\n",
    "    puy = (puy - np.mean(puy))/span\n",
    "    \n",
    "    phx, phy = pinhole(xcos, ycos)\n",
    "    xspan = np.max(phx) - np.min(phx)\n",
    "    yspan = np.max(phy) - np.min(phy)\n",
    "    span = max(xspan, yspan)\n",
    "\n",
    "    phx = -(phx - np.mean(phx))/span\n",
    "    phy = -(phy - np.mean(phy))/span\n",
    "\n",
    "    ax.scatter(pux, puy, s=2, alpha=0.1, c='r', label='pupil')\n",
    "    ax.scatter(phx, phy, s=2, alpha=0.2, c='b', label='pinhole')\n",
    "    ax.legend()\n",
    "    fig.show()"
   ]
  },
  {
   "cell_type": "code",
   "execution_count": null,
   "metadata": {},
   "outputs": [],
   "source": [
    "plot(0, 0.74 * np.pi/180)"
   ]
  },
  {
   "cell_type": "code",
   "execution_count": null,
   "metadata": {},
   "outputs": [],
   "source": [
    "def both(xcos, ycos):\n",
    "    pux, puy = pupil(xcos, ycos)\n",
    "    xspan = np.max(pux) - np.min(pux)\n",
    "    yspan = np.max(puy) - np.min(puy)\n",
    "    span = max(xspan, yspan)\n",
    "    pux = (pux - np.mean(pux))/span\n",
    "    puy = (puy - np.mean(puy))/span\n",
    "\n",
    "    phx, phy = pinhole(xcos, ycos)\n",
    "    xspan = np.max(phx) - np.min(phx)\n",
    "    yspan = np.max(phy) - np.min(phy)\n",
    "    span = max(xspan, yspan)\n",
    "    phx = -(phx - np.mean(phx))/span\n",
    "    phy = -(phy - np.mean(phy))/span\n",
    "\n",
    "    return pux, puy, phx, phy"
   ]
  },
  {
   "cell_type": "code",
   "execution_count": null,
   "metadata": {},
   "outputs": [],
   "source": [
    "fig, axes = plt.subplots(nrows=2, ncols=2, figsize=(8,8))\n",
    "for ax, ycos in zip(axes.ravel(), [0.0, 0.25, 0.5, 0.74]):\n",
    "    pux, puy, phx, phy = both(0.0, ycos*np.pi/180)\n",
    "\n",
    "    ax.scatter(pux, puy, s=2, alpha=0.1, c='r', label='pupil')\n",
    "    ax.scatter(phx, phy, s=2, alpha=0.2, c='b', label='pinhole')\n",
    "    ax.set_title(r\"$\\theta_y$ = {:5.2f}\".format(ycos))\n",
    "    ax.legend(loc=\"upper right\")\n",
    "fig.show()"
   ]
  },
  {
   "cell_type": "code",
   "execution_count": null,
   "metadata": {},
   "outputs": [],
   "source": []
  }
 ],
 "metadata": {
  "kernelspec": {
   "display_name": "Python 3",
   "language": "python",
   "name": "python3"
  },
  "language_info": {
   "codemirror_mode": {
    "name": "ipython",
    "version": 3
   },
   "file_extension": ".py",
   "mimetype": "text/x-python",
   "name": "python",
   "nbconvert_exporter": "python",
   "pygments_lexer": "ipython3",
   "version": "3.6.2"
  }
 },
 "nbformat": 4,
 "nbformat_minor": 2
}
