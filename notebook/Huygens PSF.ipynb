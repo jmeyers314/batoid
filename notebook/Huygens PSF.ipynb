{
 "cells": [
  {
   "cell_type": "code",
   "execution_count": null,
   "metadata": {
    "ExecuteTime": {
     "end_time": "2019-08-31T17:35:17.780199Z",
     "start_time": "2019-08-31T17:35:17.298609Z"
    }
   },
   "outputs": [],
   "source": [
    "import batoid\n",
    "import numpy as np\n",
    "from IPython.display import display\n",
    "from ipywidgets import interact, interactive_output, interact_manual\n",
    "import ipywidgets as widgets\n",
    "import galsim\n",
    "import matplotlib.pyplot as plt\n",
    "%matplotlib inline"
   ]
  },
  {
   "cell_type": "code",
   "execution_count": null,
   "metadata": {
    "ExecuteTime": {
     "end_time": "2019-08-31T17:35:23.673001Z",
     "start_time": "2019-08-31T17:35:23.636285Z"
    }
   },
   "outputs": [],
   "source": [
    "telescope = batoid.Optic.fromYaml(\"LSST_r.yaml\")"
   ]
  },
  {
   "cell_type": "code",
   "execution_count": null,
   "metadata": {
    "ExecuteTime": {
     "end_time": "2019-08-31T17:36:21.015876Z",
     "start_time": "2019-08-31T17:36:21.009432Z"
    }
   },
   "outputs": [],
   "source": [
    "np.random.seed(123)\n",
    "dirCos = batoid.utils.fieldToDirCos(np.deg2rad(1.5), 0.0)\n",
    "rays = batoid.RayVector.asGrid(\n",
    "    telescope.dist, 625e-9,\n",
    "    dirCos=dirCos,\n",
    "    nx=512,\n",
    "    lx=telescope.pupilSize,\n",
    "    medium=telescope.inMedium,\n",
    "    stopSurface=telescope.stopSurface, \n",
    "    nrandom=1000\n",
    ")"
   ]
  },
  {
   "cell_type": "code",
   "execution_count": null,
   "metadata": {
    "ExecuteTime": {
     "end_time": "2019-08-31T17:36:21.509393Z",
     "start_time": "2019-08-31T17:36:21.503847Z"
    }
   },
   "outputs": [],
   "source": [
    "outRays, _ = telescope.trace(rays)\n",
    "outRays.trimVignettedInPlace()\n",
    "len(outRays)"
   ]
  },
  {
   "cell_type": "code",
   "execution_count": null,
   "metadata": {
    "ExecuteTime": {
     "end_time": "2019-08-31T17:36:21.948429Z",
     "start_time": "2019-08-31T17:36:21.927977Z"
    }
   },
   "outputs": [],
   "source": [
    "def randomRaySumXYZ(outRays, nray, xsize=5*10e-6, ysize=5*10e-6, zsize=5*10e-6, nx=100, plotk=False, alpha=0.1):\n",
    "    xmean = np.mean(outRays.x)\n",
    "    ymean = np.mean(outRays.y)\n",
    "    zmean = np.mean(outRays.z)\n",
    "    tmean = np.mean(outRays.t)\n",
    "\n",
    "    fig, axes = plt.subplots(nrows=2, ncols=2, figsize=(10, 10))\n",
    "    for ax in axes.ravel():\n",
    "        ax.tick_params(axis='both', which='major', labelsize=18)\n",
    "        ax.tick_params(axis='both', which='minor', labelsize=18)\n",
    "    \n",
    "    # XY plots first\n",
    "    xrange = xmean + xsize*np.array([-0.5, 0.5])\n",
    "    yrange = ymean + ysize*np.array([-0.5, 0.5])\n",
    "\n",
    "    xs = np.linspace(xrange[0], xrange[1], nx)\n",
    "    ys = np.linspace(yrange[0], yrange[1], nx)\n",
    "    xs, ys = np.meshgrid(xs, ys)\n",
    "    zs = np.ones_like(xs)*zmean\n",
    "    \n",
    "    points = np.concatenate([aux[..., None] for aux in (xs, ys, zs)], axis=-1)\n",
    "\n",
    "    tmpRays = []\n",
    "    np.random.seed(123)\n",
    "    indices = np.random.choice(len(outRays), size=nray, replace=False)\n",
    "    for idx in indices:\n",
    "        tmpRays.append(outRays[idx])\n",
    "    tmpRays = batoid.RayVector(tmpRays)\n",
    "\n",
    "    amplitudes = np.empty_like(xs, dtype=np.complex128)\n",
    "    for idx in np.ndindex(amplitudes.shape):\n",
    "        amplitudes[idx] = tmpRays.sumAmplitude(points[idx], tmean)\n",
    "    \n",
    "    extent = np.array([-xsize, xsize, -ysize, ysize])/10e-6\n",
    "    i0 = axes[0,0].imshow(np.real(amplitudes), extent=extent)\n",
    "    axes[0,0].set_title(r\"$Re[E]$\", fontsize=18)\n",
    "    axes[0,0].set_xlabel(\"X\", fontsize=18)\n",
    "    axes[0,0].set_ylabel(\"Y\", fontsize=18)\n",
    "\n",
    "    i1 = axes[0,1].imshow(np.abs(amplitudes)**2, extent=extent)\n",
    "    axes[0,1].set_title(r\"$|E|^2$\", fontsize=18)\n",
    "    axes[0,1].set_xlabel(\"X\", fontsize=18)\n",
    "    axes[0,1].set_ylabel(\"Y\", fontsize=18)\n",
    "\n",
    "    if plotk:\n",
    "        for ray in tmpRays:\n",
    "            axes[0,0].plot(\n",
    "                (np.array([0, ray.vx])*10e-6 + ray.x - xmean)/10e-6,\n",
    "                (np.array([0, ray.vy])*10e-6 + ray.y - ymean)/10e-6,\n",
    "                c='r', alpha=alpha\n",
    "            )            \n",
    "\n",
    "    # Now XZ plots    \n",
    "    xrange = xmean+xsize*np.array([-0.5, 0.5])\n",
    "    zrange = zmean+zsize*np.array([-0.5, 0.5])\n",
    "\n",
    "    xs = np.linspace(xrange[0], xrange[1], nx)\n",
    "    zs = np.linspace(zrange[0], zrange[1], nx)\n",
    "    xs, zs = np.meshgrid(xs, zs)\n",
    "    ys = np.ones_like(xs)*ymean\n",
    "    \n",
    "    points = np.concatenate([aux[..., None] for aux in (xs, ys, zs)], axis=-1)\n",
    "\n",
    "    tmpRays = []\n",
    "    for idx in indices:\n",
    "        tmpRays.append(outRays[idx])\n",
    "    tmpRays = batoid.RayVector(tmpRays)\n",
    "\n",
    "    amplitudes = np.empty_like(xs, dtype=np.complex128)\n",
    "    for idx in np.ndindex(amplitudes.shape):\n",
    "        amplitudes[idx] = tmpRays.sumAmplitude(points[idx], tmean)\n",
    "    \n",
    "    extent = np.array([-xsize, xsize, -zsize, zsize])/10e-6\n",
    "    \n",
    "    i0 = axes[1,0].imshow(np.real(amplitudes), extent=extent)\n",
    "    axes[1,0].set_title(r\"$Re[E]$\", fontsize=18)\n",
    "    axes[1,0].axhline(0, c='w', lw=4)\n",
    "    axes[1,0].set_xlabel(\"X\", fontsize=18)\n",
    "    axes[1,0].set_ylabel(\"Z\", fontsize=18)\n",
    "    \n",
    "    i1 = axes[1,1].imshow(np.abs(amplitudes)**2, extent=extent)\n",
    "    axes[1,1].set_title(r\"$|E|^2$\", fontsize=18)\n",
    "    axes[1,1].axhline(0, c='w', lw=4)\n",
    "    axes[1,1].set_xlabel(\"X\", fontsize=18)\n",
    "    axes[1,1].set_ylabel(\"Z\", fontsize=18)\n",
    "\n",
    "    if plotk:\n",
    "        for ray in tmpRays:\n",
    "            axes[1,0].plot(\n",
    "                (np.array([0, ray.vx])*10e-6 + ray.x - xmean)/10e-6,\n",
    "                (np.array([0, ray.vz])*10e-6 + ray.z - zmean)/10e-6,\n",
    "                c='r', alpha=alpha\n",
    "            )            \n",
    "    plt.tight_layout()"
   ]
  },
  {
   "cell_type": "code",
   "execution_count": null,
   "metadata": {
    "ExecuteTime": {
     "end_time": "2019-08-31T17:36:24.575001Z",
     "start_time": "2019-08-31T17:36:22.511708Z"
    }
   },
   "outputs": [],
   "source": [
    "randomRaySumXYZ(outRays, len(outRays), xsize=1.5*10e-6, ysize=1.5*10e-6, zsize=1.5*10e-6, plotk=True, alpha=0.01)"
   ]
  },
  {
   "cell_type": "code",
   "execution_count": null,
   "metadata": {},
   "outputs": [],
   "source": []
  }
 ],
 "metadata": {
  "kernelspec": {
   "display_name": "Python 3",
   "language": "python",
   "name": "python3"
  },
  "language_info": {
   "codemirror_mode": {
    "name": "ipython",
    "version": 3
   },
   "file_extension": ".py",
   "mimetype": "text/x-python",
   "name": "python",
   "nbconvert_exporter": "python",
   "pygments_lexer": "ipython3",
   "version": "3.7.2"
  }
 },
 "nbformat": 4,
 "nbformat_minor": 2
}
