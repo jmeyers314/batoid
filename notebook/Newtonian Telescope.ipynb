{
 "cells": [
  {
   "cell_type": "code",
   "execution_count": null,
   "metadata": {},
   "outputs": [],
   "source": [
    "import batoid\n",
    "import numpy as np\n",
    "import matplotlib.pyplot as plt\n",
    "from ipywidgets import interact\n",
    "import ipywidgets as widgets\n",
    "%matplotlib inline"
   ]
  },
  {
   "cell_type": "code",
   "execution_count": null,
   "metadata": {},
   "outputs": [],
   "source": [
    "# Let's model my 12-inch f/5 Newtonian reflector.\n",
    "# 12-inch is approx 0.3 m\n",
    "# f/5 then means the focal length is 1.5 m\n",
    "# Which then means the parabolic equation is:\n",
    "# z = (x^2+y^2) / (4*1.5)\n",
    "\n",
    "D = 0.3\n",
    "fn = 5\n",
    "f = D * fn  # focal-length\n",
    "R = 2 * f\n",
    "plate_scale = 1./f # radians / m\n",
    "\n",
    "def makeTelescope(defocus=0.0): # defocus in mm\n",
    "    telescope = batoid.CompoundOptic(\n",
    "        items = [\n",
    "            batoid.Mirror(\n",
    "                batoid.Paraboloid(R),\n",
    "                name=\"Mirror\"\n",
    "            ),\n",
    "            batoid.Detector(\n",
    "                batoid.Plane(),\n",
    "                name=\"detector\",\n",
    "                coordSys=batoid.CoordSys().shiftGlobal([0,0,f+0.001*defocus])\n",
    "            )\n",
    "        ]\n",
    "    )\n",
    "    return telescope"
   ]
  },
  {
   "cell_type": "code",
   "execution_count": null,
   "metadata": {},
   "outputs": [],
   "source": [
    "@interact(theta_x=widgets.FloatSlider(min=-1,max=1,step=0.01,value=0.1),\n",
    "          theta_y=widgets.FloatSlider(min=-1,max=1,step=0.01,value=0.1),\n",
    "          focus=widgets.FloatSlider(min=-0.5, max=0.5, step=0.01,value=0.1))\n",
    "def spot(theta_x, theta_y, focus):\n",
    "    \"\"\"Display a spot diagram for a Newtonian telescope.\n",
    "\n",
    "    @param theta_x  Field angle in degrees\n",
    "    @param theta_y  Field angle in degrees\n",
    "    @param focus    Defocus distance in mm\n",
    "    \"\"\"\n",
    "    telescope = makeTelescope(focus)\n",
    "    rays = batoid.circularGrid(\n",
    "        1.0, \n",
    "        D/2, 0.0, \n",
    "        np.sin(theta_x*np.pi/180), np.sin(theta_y*np.pi/180), -1,\n",
    "        40, 160,\n",
    "        500e-9,\n",
    "        1.0,\n",
    "        batoid.ConstMedium(1.0)\n",
    "    )\n",
    "    telescope.traceInPlace(rays)\n",
    "    rays.trimVignettedInPlace()\n",
    "    x, y = np.array(rays.x), np.array(rays.y)\n",
    "    x -= np.mean(x)\n",
    "    y -= np.mean(y)\n",
    "    x *= plate_scale*206265\n",
    "    y *= plate_scale*206265\n",
    "\n",
    "    plt.figure(figsize=(4.5,4))\n",
    "    plt.scatter(x, y, s=1, alpha=0.5)\n",
    "    plt.xlim(-10, 10)\n",
    "    plt.ylim(-10, 10)\n",
    "    plt.title(r\"$\\theta_x = {:4.2f}\\,,\\theta_y = {:4.2f}\\,, f={:4.2f}$\".format(theta_x, theta_y, focus))\n",
    "    plt.xlabel(\"arcseconds\")\n",
    "    plt.ylabel(\"arcseconds\")"
   ]
  },
  {
   "cell_type": "code",
   "execution_count": null,
   "metadata": {},
   "outputs": [],
   "source": []
  }
 ],
 "metadata": {
  "anaconda-cloud": {},
  "kernelspec": {
   "display_name": "Python 3",
   "language": "python",
   "name": "python3"
  },
  "language_info": {
   "codemirror_mode": {
    "name": "ipython",
    "version": 3
   },
   "file_extension": ".py",
   "mimetype": "text/x-python",
   "name": "python",
   "nbconvert_exporter": "python",
   "pygments_lexer": "ipython3",
   "version": "3.6.2"
  },
  "widgets": {
   "state": {
    "e7800983b593499eb525978ce4591cfe": {
     "views": [
      {
       "cell_index": 3
      }
     ]
    }
   },
   "version": "1.2.0"
  }
 },
 "nbformat": 4,
 "nbformat_minor": 1
}
