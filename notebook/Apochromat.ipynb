{
 "cells": [
  {
   "cell_type": "code",
   "execution_count": null,
   "metadata": {
    "ExecuteTime": {
     "end_time": "2019-08-31T17:24:26.101922Z",
     "start_time": "2019-08-31T17:24:25.833810Z"
    }
   },
   "outputs": [],
   "source": [
    "import batoid\n",
    "from batoid.utils import normalized\n",
    "import os\n",
    "import yaml\n",
    "import numpy as np\n",
    "from IPython.display import display\n",
    "from ipywidgets import interact, interactive_output\n",
    "import ipywidgets as widgets\n",
    "import matplotlib.pyplot as plt\n",
    "%matplotlib inline\n",
    "from mpl_toolkits.mplot3d import Axes3D"
   ]
  },
  {
   "cell_type": "code",
   "execution_count": null,
   "metadata": {
    "ExecuteTime": {
     "end_time": "2019-08-31T17:24:26.116780Z",
     "start_time": "2019-08-31T17:24:26.103208Z"
    }
   },
   "outputs": [],
   "source": [
    "telescope = batoid.Optic.fromYaml('donsoptikz1.yaml')"
   ]
  },
  {
   "cell_type": "code",
   "execution_count": null,
   "metadata": {
    "ExecuteTime": {
     "end_time": "2019-08-31T17:24:26.508237Z",
     "start_time": "2019-08-31T17:24:26.118117Z"
    }
   },
   "outputs": [],
   "source": [
    "fig1 = plt.figure(figsize=(12, 11))\n",
    "ax1 = fig1.add_subplot(111)\n",
    "telescope.draw2d(ax1, c='k')\n",
    "\n",
    "fig2 = plt.figure(figsize=(12, 11))\n",
    "ax2 = fig2.add_subplot(111, projection='3d')\n",
    "telescope.draw3d(ax2, c='k')\n",
    "\n",
    "p0_left = np.array([-0.035, 0, 0])\n",
    "p0_right = np.array([0.035, 0, 0])\n",
    "p0_lmid = np.array([-0.015, 0, 0])\n",
    "p0_rmid = np.array([0.015, 0, 0])\n",
    "v_left = normalized(np.array([-0.01, 0, -1]))\n",
    "v_mid = normalized(np.array([0, 0, -1]))\n",
    "v_right = normalized(np.array([0.01, 0, -1]))\n",
    "\n",
    "traceFull = None\n",
    "for v, c in zip([v_left, v_mid, v_right], ['#377eb8', '#ff7f00', '#4daf4a']):\n",
    "    rays = []\n",
    "    for p0 in [p0_left, p0_lmid, p0_rmid, p0_right]:\n",
    "        ray = batoid.Ray(p0, v, t=0, wavelength=500e-9)\n",
    "        p0 = ray.positionAtTime(-0.1)        \n",
    "        rays.append(batoid.Ray(p0, v, t=0, wavelength=500e-9))\n",
    "    traceFull = telescope.traceFull(batoid.RayVector(rays))\n",
    "    batoid.drawTrace2d(ax1, traceFull, c=c)\n",
    "    batoid.drawTrace3d(ax2, traceFull, c=c)\n",
    "# ax1.set_ylim(-0.6081, -0.608)\n",
    "# ax1.set_xlim(-0.00001, 0.00001)"
   ]
  },
  {
   "cell_type": "code",
   "execution_count": null,
   "metadata": {},
   "outputs": [],
   "source": []
  }
 ],
 "metadata": {
  "kernelspec": {
   "display_name": "Python 3",
   "language": "python",
   "name": "python3"
  },
  "language_info": {
   "codemirror_mode": {
    "name": "ipython",
    "version": 3
   },
   "file_extension": ".py",
   "mimetype": "text/x-python",
   "name": "python",
   "nbconvert_exporter": "python",
   "pygments_lexer": "ipython3",
   "version": "3.7.2"
  }
 },
 "nbformat": 4,
 "nbformat_minor": 2
}
