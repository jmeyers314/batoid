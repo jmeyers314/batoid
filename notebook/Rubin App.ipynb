{
 "cells": [
  {
   "cell_type": "code",
   "execution_count": null,
   "id": "e7c83916-837b-4ca7-a411-8e134bd07049",
   "metadata": {
    "tags": []
   },
   "outputs": [],
   "source": [
    "%load_ext autoreload\n",
    "%autoreload 2\n",
    "\n",
    "%matplotlib widget"
   ]
  },
  {
   "cell_type": "code",
   "execution_count": null,
   "id": "b6036d43-103d-45ac-a549-630ff8267a85",
   "metadata": {
    "tags": []
   },
   "outputs": [],
   "source": [
    "from batoid.app import RubinCSApp"
   ]
  },
  {
   "cell_type": "code",
   "execution_count": null,
   "id": "29d77914-09b1-4cea-bc82-d236bfbcaba4",
   "metadata": {
    "tags": []
   },
   "outputs": [],
   "source": [
    "import ipywidgets\n",
    "debug = ipywidgets.Output()\n",
    "# debug"
   ]
  },
  {
   "cell_type": "code",
   "execution_count": null,
   "id": "1e6e78e5-008a-483d-a090-efbb26de26a1",
   "metadata": {
    "tags": []
   },
   "outputs": [],
   "source": [
    "# Run cell twice to get rid of ipv box\n",
    "# cyan = x, magenta = y, yellow = z\n",
    "app = RubinCSApp(debug=debug)\n",
    "app.display()"
   ]
  },
  {
   "cell_type": "code",
   "execution_count": null,
   "id": "fe118d1b-a3ec-4d21-8cb7-a5b96770a718",
   "metadata": {},
   "outputs": [],
   "source": []
  }
 ],
 "metadata": {
  "kernelspec": {
   "display_name": "Python 3 (ipykernel)",
   "language": "python",
   "name": "python3"
  },
  "language_info": {
   "codemirror_mode": {
    "name": "ipython",
    "version": 3
   },
   "file_extension": ".py",
   "mimetype": "text/x-python",
   "name": "python",
   "nbconvert_exporter": "python",
   "pygments_lexer": "ipython3",
   "version": "3.10.4"
  }
 },
 "nbformat": 4,
 "nbformat_minor": 5
}
