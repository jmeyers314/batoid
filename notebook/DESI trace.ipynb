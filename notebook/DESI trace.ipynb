{
 "cells": [
  {
   "cell_type": "markdown",
   "metadata": {},
   "source": [
    "# Dark Energy Spectroscopic Instrument"
   ]
  },
  {
   "cell_type": "markdown",
   "metadata": {},
   "source": [
    "Based on the ECHO-22 design with obscurations in [DESI-4037-v6](https://desi.lbl.gov/DocDB/cgi-bin/private/ShowDocument?docid=4037).\n",
    "\n",
    "Corrector lens refractive properties taken from melt data in [DESI-2880](https://desi.lbl.gov/DocDB/cgi-bin/private/ShowDocument?docid=2880)."
   ]
  },
  {
   "cell_type": "code",
   "execution_count": null,
   "metadata": {
    "ExecuteTime": {
     "end_time": "2019-09-22T19:11:55.510147Z",
     "start_time": "2019-09-22T19:11:55.251260Z"
    }
   },
   "outputs": [],
   "source": [
    "import batoid\n",
    "import os\n",
    "import yaml\n",
    "import numpy as np\n",
    "import matplotlib.pyplot as plt\n",
    "%matplotlib inline"
   ]
  },
  {
   "cell_type": "code",
   "execution_count": null,
   "metadata": {
    "ExecuteTime": {
     "end_time": "2019-09-22T19:11:56.105387Z",
     "start_time": "2019-09-22T19:11:56.028839Z"
    }
   },
   "outputs": [],
   "source": [
    "telescope = batoid.Optic.fromYaml(\"DESI.yaml\")"
   ]
  },
  {
   "cell_type": "code",
   "execution_count": null,
   "metadata": {
    "ExecuteTime": {
     "end_time": "2019-09-22T19:11:58.539816Z",
     "start_time": "2019-09-22T19:11:58.267497Z"
    }
   },
   "outputs": [],
   "source": [
    "fig, ax = plt.subplots(figsize=(8, 16))\n",
    "\n",
    "# Draw a 2D (x,z) slice through the corrector.\n",
    "telescope.draw2d(ax, only=batoid.optic.Lens, fc='c', alpha=0.2,\n",
    "                 labelpos=0.62, fontdict=dict(fontsize=18, weight='bold', color='c'))\n",
    "telescope.draw2d(ax, only=batoid.optic.Detector, c='b', lw=2)\n",
    "telescope.draw2d(ax, only=batoid.optic.Baffle, c='r', lw=1, ls=':')\n",
    "\n",
    "# Fill the (x, z) plane with rays entering the pupil.\n",
    "z_pupil = telescope.backDist\n",
    "r_pupil = 0.5 * telescope.pupilSize\n",
    "x_pupil = np.linspace(-r_pupil, r_pupil, 20)\n",
    "\n",
    "# Trace and draw 500nm rays from 5 angles covering the field of view.\n",
    "wlen = 500e-9\n",
    "fov = np.deg2rad(3.2)\n",
    "thetas = np.linspace(-0.5 * fov, +0.5 * fov, 5)\n",
    "for theta in thetas:\n",
    "    v = [np.sin(theta), 0., -np.cos(theta)]\n",
    "    rays = batoid.RayVector([\n",
    "        batoid.Ray([x, 0, z_pupil], v, t=0, wavelength=wlen) for x in x_pupil])\n",
    "    traceFull = telescope.traceFull(rays)\n",
    "    batoid.drawTrace2d(ax, traceFull, c='k', lw=1, start='M1', end='FocalPlane')\n",
    "\n",
    "ax.set_xlim(-0.6, 0.7)\n",
    "ax.set_ylim(8.6, 11.2)\n",
    "ax.set_aspect(1.0)\n",
    "ax.axis('off')\n",
    "plt.show()"
   ]
  },
  {
   "cell_type": "code",
   "execution_count": null,
   "metadata": {},
   "outputs": [],
   "source": []
  }
 ],
 "metadata": {
  "kernelspec": {
   "display_name": "Python 3",
   "language": "python",
   "name": "python3"
  },
  "language_info": {
   "codemirror_mode": {
    "name": "ipython",
    "version": 3
   },
   "file_extension": ".py",
   "mimetype": "text/x-python",
   "name": "python",
   "nbconvert_exporter": "python",
   "pygments_lexer": "ipython3",
   "version": "3.7.2"
  }
 },
 "nbformat": 4,
 "nbformat_minor": 2
}
